{
 "metadata": {
  "name": "forms_javascript"
 },
 "nbformat": 3,
 "nbformat_minor": 0,
 "worksheets": [
  {
   "cells": [
    {
     "cell_type": "raw",
     "metadata": {},
     "source": [
      "Generating Options for Interacting"
     ]
    },
    {
     "cell_type": "markdown",
     "metadata": {},
     "source": [
      "<div id=\"radio\">\n",
      "  <input type=\"radio\" id=\"radioSingleProduct\" name=\"radio\"><label for=\"radioSingleProduct\">Single Product</label>\n",
      "  <input type=\"radio\" id=\"radioFamily\" name=\"radio\" checked=\"checked\"><label for=\"radioFamily\">Family</label>\n",
      "  <input type=\"radio\" id=\"radioTimeRange\" name=\"radio\"><label for=\"radioTimeRange\">Time Range</label>\n",
      "</div>\n",
      "\n",
      "<script>\n",
      "    $(\"#radio\").buttonset();\n",
      "    $('#radio :radio').click(function() {\n",
      "        var kernel = IPython.notebook.kernel;\n",
      "        kernel.execute(\"some_var = '\");\n",
      "        radioId = $(this).attr('id');\n",
      "        if (radioId === 'radioSingleProduct') {\n",
      "            selectId = 'singleProducts';\n",
      "        }\n",
      "        else if (radioId === 'radioFamily') {\n",
      "            selectId = 'families';\n",
      "        }\n",
      "        else if (radioId === 'radioTimeRange') {\n",
      "            selectId = 'timeRanges';\n",
      "        }\n",
      "        $(\"#\"+\"families\").prev().css('visibility','hidden');\n",
      "        $(\"#\"+\"families\").css('visibility','hidden');\n",
      "        $(\"#\"+\"singleProducts\").prev().css('visibility','hidden');\n",
      "        $(\"#\"+\"singleProducts\").css('visibility','hidden');\n",
      "        $(\"#\"+\"timeRanges\").prev().css('visibility','hidden');\n",
      "        $(\"#\"+\"timeRanges\").css('visibility','hidden');\n",
      "        \n",
      "        $(\"#\"+selectId).prev().css('visibility','visible');\n",
      "        $(\"#\"+selectId).css('visibility','visible');\n",
      "        // console.log($(this).parent().append('<p>hi</p>'));\n",
      "    });\n",
      "</script>"
     ]
    },
    {
     "cell_type": "code",
     "collapsed": false,
     "input": [
      "from IPython.core.display import HTML\n",
      "selectform = \"\"\n",
      "selectform += \"<p>Single Products</p>\"\n",
      "selectform += \"<select id='singleProducts'>\"\n",
      "singleProducts = ['iMac (27\") (Late 2012)', 'iMac (21.5\") (Late 2012)', 'iPad (4th gen) (Wi-Fi + Cellular)', 'iPad Mini (Wi-Fi + Cellular)']\n",
      "selectform += \"<option value=\\\"0\\\">----Select a Single Product----</option>\"\n",
      "counter = 1\n",
      "for singleProduct in singleProducts:\n",
      "    selectform += \"<option value=\\\"%s\\\">%s</option>\" % (counter, singleProduct)\n",
      "    counter += 1\n",
      "selectform += \"</select>\"\n",
      "\n",
      "selectform += \"<p>Families</p>\"\n",
      "selectform += \"<select id='families'>\"\n",
      "families = ['iMac', 'iPad', 'MacBook Pro', 'Mac Mini']\n",
      "selectform += \"<option value=\\\"0\\\">---Select a Family of Products---</option>\"\n",
      "counter = 1\n",
      "for family in families:\n",
      "    selectform += \"<option value=\\\"%s\\\">%s</option>\" % (counter, family)\n",
      "    counter += 1\n",
      "selectform += \"</select>\"\n",
      "\"var selected=$('select#singleProducts').find(':selected').text();py1='selected = &quot;'+selected+'&quot';IPython.notebook.kernel.execute(py1);\"\n",
      "#selectform += \"<input type=\\\"button\\\" value=\\\"Compute\\\" onclick=\\\"var selected=$('select#singleProducts').find(':selected').text();var py1='selected = &quot;'+selected+'&quot';IPython.notebook.kernel.execute(py1);\\\">\"\n",
      "\n",
      "selectform += \"<p>Time Range</p>\"\n",
      "selectform += \"<input type='text' id='timeRanges'/>\"\n",
      "\n",
      "HTML(selectform+\"<script>\"+script+\"</script>\")"
     ],
     "language": "python",
     "metadata": {},
     "outputs": [
      {
       "html": [
        "<p>Single Products</p><select id='singleProducts'><option value=\"0\">----Select a Single Product----</option><option value=\"1\">iMac (27\") (Late 2012)</option><option value=\"2\">iMac (21.5\") (Late 2012)</option><option value=\"3\">iPad (4th gen) (Wi-Fi + Cellular)</option><option value=\"4\">iPad Mini (Wi-Fi + Cellular)</option></select><p>Families</p><select id='families'><option value=\"0\">---Select a Family of Products---</option><option value=\"1\">iMac</option><option value=\"2\">iPad</option><option value=\"3\">MacBook Pro</option><option value=\"4\">Mac Mini</option></select><p>Time Range</p><input type='text' id='timeRanges'/><script>\n",
        "$(function() {\n",
        "$(\"#radio\").buttonset();\n",
        "$('#radio :radio').click(function() {\n",
        "    var kernel = IPython.notebook.kernel;\n",
        "    kernel.execute(\"some_var = '\");\n",
        "    radioId = $(this).attr('id');\n",
        "    if (radioId === 'radioSingleProduct') {\n",
        "        selectId = 'singleProducts';\n",
        "    }\n",
        "    else if (radioId === 'radioFamily') {\n",
        "        selectId = 'families';\n",
        "    }\n",
        "    else if (radioId === 'radioTimeRange') {\n",
        "        selectId = 'timeRange';\n",
        "    }\n",
        "    $(\"#\"+\"families\").prev().css('visibility','hidden');\n",
        "    $(\"#\"+\"families\").css('visibility','hidden');\n",
        "    $(\"#\"+\"singleProducts\").prev().css('visibility','hidden');\n",
        "    $(\"#\"+\"singleProducts\").css('visibility','hidden');\n",
        "    $(\"#\"+\"timeRanges\").prev().css('visibility','hidden');\n",
        "    $(\"#\"+\"timeRanges\").css('visibility','hidden');\n",
        "        \n",
        "    $(\"#\"+selectId).prev().css('visibility','visible');\n",
        "    $(\"#\"+selectId).css('visibility','visible');\n",
        "    // console.log($(this).parent().append('<p>hi</p>'));\n",
        "});\n",
        "});\n",
        "</script>"
       ],
       "output_type": "pyout",
       "prompt_number": 69,
       "text": [
        "<IPython.core.display.HTML at 0x5e630b0>"
       ]
      }
     ],
     "prompt_number": 69
    },
    {
     "cell_type": "markdown",
     "metadata": {},
     "source": [
      "<button id=\"compute\">Compute</button>\n",
      "<div id=\"display\">\n",
      "</div>\n",
      "<script>\n",
      "    $(\"button#compute\").click(function() {\n",
      "        var kernel = IPython.notebook.kernel;\n",
      "        var singleProduct = $(\"select#singleProducts\").find(':selected').text();\n",
      "        kernel.execute(\"singleProduct = '\" +singleProduct+ \"'\");\n",
      "        var family = $(\"select#families\").find(':selected').text();\n",
      "        kernel.execute(\"family = '\" +family+ \"'\");\n",
      "        var display = \"<p></p>\";\n",
      "        display += \"<p>singleProduct:\"+singleProduct+\"</p>\";\n",
      "        display += \"<p>family:\"+family+\"</p>\";\n",
      "        $(\"div#display\").html(display);\n",
      "    });\n",
      "</script>"
     ]
    },
    {
     "cell_type": "code",
     "collapsed": false,
     "input": [
      "selected"
     ],
     "language": "python",
     "metadata": {},
     "outputs": [
      {
       "ename": "NameError",
       "evalue": "name 'selected' is not defined",
       "output_type": "pyerr",
       "traceback": [
        "\u001b[1;31m---------------------------------------------------------------------------\u001b[0m\n\u001b[1;31mNameError\u001b[0m                                 Traceback (most recent call last)",
        "\u001b[1;32m<ipython-input-24-3c9e0c65100e>\u001b[0m in \u001b[0;36m<module>\u001b[1;34m()\u001b[0m\n\u001b[1;32m----> 1\u001b[1;33m \u001b[0mselected\u001b[0m\u001b[1;33m\u001b[0m\u001b[0m\n\u001b[0m",
        "\u001b[1;31mNameError\u001b[0m: name 'selected' is not defined"
       ]
      }
     ],
     "prompt_number": 24
    },
    {
     "cell_type": "code",
     "collapsed": false,
     "input": [],
     "language": "python",
     "metadata": {},
     "outputs": []
    }
   ],
   "metadata": {}
  }
 ]
}